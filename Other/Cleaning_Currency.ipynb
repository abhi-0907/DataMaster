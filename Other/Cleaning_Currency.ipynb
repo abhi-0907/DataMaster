{
 "cells": [
  {
   "cell_type": "code",
   "execution_count": 43,
   "id": "fe68945a-7e19-4f9c-93db-4e637f961bb8",
   "metadata": {},
   "outputs": [],
   "source": [
    "import pandas as pd"
   ]
  },
  {
   "cell_type": "code",
   "execution_count": 44,
   "id": "49374f3d-b2df-4323-9087-d1c6a28ac87d",
   "metadata": {},
   "outputs": [],
   "source": [
    "countries = []"
   ]
  },
  {
   "cell_type": "code",
   "execution_count": 45,
   "id": "1cea5c80-d0fe-4eee-8e5f-3c44f86550e5",
   "metadata": {},
   "outputs": [],
   "source": [
    "import os"
   ]
  },
  {
   "cell_type": "code",
   "execution_count": 46,
   "id": "21b6742e-7e88-4926-8ce0-bdf924f77f22",
   "metadata": {},
   "outputs": [],
   "source": [
    "csv_files = []\n",
    "files_in_direc = os.listdir()"
   ]
  },
  {
   "cell_type": "code",
   "execution_count": 47,
   "id": "43f39309-3846-487d-9cef-503b98a206f6",
   "metadata": {},
   "outputs": [
    {
     "data": {
      "text/plain": [
       "['.ipynb_checkpoints',\n",
       " 'Adding Rupees value.ipynb',\n",
       " 'app.py',\n",
       " 'Cleaning_Currency.ipynb',\n",
       " 'MS_IN_AI.csv',\n",
       " 'MS_IN_Arch.csv',\n",
       " 'MS_IN_CIVIL.csv',\n",
       " 'MS_IN_CSE (2).csv',\n",
       " 'MS_IN_DS.csv',\n",
       " 'MS_IN_EEE.csv',\n",
       " 'MS_IN_ELEC_CS (1).csv',\n",
       " 'MS_IN_Env_Sci.csv',\n",
       " 'MS_IN_Fin_Acc.csv',\n",
       " 'MS_IN_Int_Rel.csv',\n",
       " 'MS_IN_MBA.csv',\n",
       " 'MS_IN_Pshy.csv',\n",
       " 'MS_IN_Pub_health.csv',\n",
       " 'MS_IN_SOFT_Eng.csv',\n",
       " 'Untitled.ipynb']"
      ]
     },
     "execution_count": 47,
     "metadata": {},
     "output_type": "execute_result"
    }
   ],
   "source": [
    "files_in_direc"
   ]
  },
  {
   "cell_type": "code",
   "execution_count": 48,
   "id": "6f30f8b3-0e50-40f9-82b7-1329cf94d60a",
   "metadata": {},
   "outputs": [],
   "source": [
    "csv_files = [file for file in files_in_direc if file.endswith('.csv')]"
   ]
  },
  {
   "cell_type": "code",
   "execution_count": 49,
   "id": "c0ae15d9-aeed-4480-8807-751f8fc0c1dc",
   "metadata": {},
   "outputs": [
    {
     "data": {
      "text/plain": [
       "['MS_IN_AI.csv',\n",
       " 'MS_IN_Arch.csv',\n",
       " 'MS_IN_CIVIL.csv',\n",
       " 'MS_IN_CSE (2).csv',\n",
       " 'MS_IN_DS.csv',\n",
       " 'MS_IN_EEE.csv',\n",
       " 'MS_IN_ELEC_CS (1).csv',\n",
       " 'MS_IN_Env_Sci.csv',\n",
       " 'MS_IN_Fin_Acc.csv',\n",
       " 'MS_IN_Int_Rel.csv',\n",
       " 'MS_IN_MBA.csv',\n",
       " 'MS_IN_Pshy.csv',\n",
       " 'MS_IN_Pub_health.csv',\n",
       " 'MS_IN_SOFT_Eng.csv']"
      ]
     },
     "execution_count": 49,
     "metadata": {},
     "output_type": "execute_result"
    }
   ],
   "source": [
    "csv_files"
   ]
  },
  {
   "cell_type": "code",
   "execution_count": 28,
   "id": "07f7a54a-917f-4881-a483-646770d0aafb",
   "metadata": {},
   "outputs": [],
   "source": [
    "for i in csv_files:\n",
    "    df = pd.read_csv(i)\n",
    "    countries_in_df = df['Country'].unique().tolist()\n",
    "    countries.extend(countries_in_df)\n",
    "    \n",
    "    "
   ]
  },
  {
   "cell_type": "code",
   "execution_count": 29,
   "id": "361a7352-110a-43b8-9c1d-20f50bb78b27",
   "metadata": {},
   "outputs": [
    {
     "name": "stdout",
     "output_type": "stream",
     "text": [
      "['United States', 'Canada', 'United Kingdom', 'Australia', 'Singapore', 'Germany', 'Netherlands', 'Sweden', 'Ireland', 'New Zealand', 'Japan', 'France', 'Switzerland', 'Denmark', 'Italy', 'Belgium', 'Hong Kong', 'Spain', 'Austria', 'United States', 'Canada', 'Germany', 'Netherlands', 'Australia', 'Singapore', 'Switzerland', 'United Kingdom', 'Ireland', 'Sweden', 'New Zealand', 'Japan', 'Hong Kong', 'Italy', 'Finland', 'Spain', 'Denmark', 'United States', 'Canada', 'Germany', 'Netherlands', 'Australia', 'Singapore', 'Switzerland', 'Ireland', 'United Kingdom', 'New Zealand', 'Japan', 'Denmark', 'France', 'Sweden', 'Hong Kong', 'Italy', 'Belgium', 'United Arab Emirates', 'United States', 'Canada', 'Germany', 'Netherlands', 'Australia', 'Singapore', 'United Kingdom', 'Switzerland', 'Ireland', 'Sweden', 'New Zealand', 'Japan', 'France', 'Denmark', 'Hong Kong', 'Italy', 'Belgium', 'Montenegro', 'Finland', 'Estonia', 'Austria', 'United Arab Emirates', 'Latvia', 'Norway', 'United States', 'Canada', 'Germany', 'Netherlands', 'Australia', 'Singapore', 'United Kingdom', 'Switzerland', 'Ireland', 'New Zealand', 'Sweden', 'France', 'Hong Kong', 'Italy', 'Belgium', 'Poland', 'Norway', 'Spain', 'Finland', 'Luxembourg', 'United Arab Emirates', 'Papua New Guinea', 'United States', 'Canada', 'Germany', 'Australia', 'United Kingdom', 'Switzerland', 'New Zealand', 'Ireland', 'Japan', 'Denmark', 'France', 'Hong Kong', 'Estonia', 'Finland', 'United States', 'Canada', 'Germany', 'Switzerland', 'Singapore', 'Ireland', 'Australia', 'United Kingdom', 'Japan', 'Hong Kong', 'United States', 'Canada', 'Australia', 'United Kingdom', 'Ireland', 'Switzerland', 'New Zealand', 'Germany', 'Japan', 'Sweden', 'Netherlands', 'Denmark', 'France', 'Finland', 'Grenada', 'Canada', 'United States', 'Australia', 'United Kingdom', 'Ireland', 'Germany', 'Sweden', 'France', 'Netherlands', 'New Zealand', 'Japan', 'Switzerland', 'Denmark', 'Hong Kong', 'Finland', 'United States', 'Canada', 'Australia', 'United Kingdom', 'Germany', 'New Zealand', 'Netherlands', 'Ireland', 'Sweden', 'Switzerland', 'Singapore', 'France', 'Italy', 'United Arab Emirates', 'Spain', 'United States', 'Canada', 'Australia', 'Singapore', 'United Kingdom', 'Germany', 'Netherlands', 'Sweden', 'Switzerland', 'New Zealand', 'France', 'Denmark', 'Ireland', 'Italy', 'Belgium', 'Estonia', 'Taiwan', 'Spain', 'Argentina', 'Malaysia', 'The', 'United States', 'Canada', 'Germany', 'Australia', 'Singapore', 'Ireland', 'United Kingdom', 'New Zealand', 'Netherlands', 'Sweden', 'Japan', 'Switzerland', 'France', 'Hong Kong', 'Norway', 'Italy', 'United States', 'Canada', 'Australia', 'United Kingdom', 'Ireland', 'Germany', 'New Zealand', 'Sweden', 'Japan', 'Denmark', 'France', 'Norway', 'Belgium', 'Israel', 'Portugal', 'Iceland', 'Hungary', 'Netherlands', 'United States', 'Canada', 'Germany', 'Australia', 'Sweden', 'United Kingdom', 'New Zealand', 'Netherlands', 'Ireland', 'Switzerland', 'France', 'Denmark', 'Estonia', 'Finland', 'Papua New Guinea']\n"
     ]
    }
   ],
   "source": [
    "print(countries)"
   ]
  },
  {
   "cell_type": "code",
   "execution_count": 30,
   "id": "54b919d6-2657-49a1-89e8-9008fa8fbc05",
   "metadata": {},
   "outputs": [],
   "source": [
    "countries = list(set(countries))"
   ]
  },
  {
   "cell_type": "code",
   "execution_count": 31,
   "id": "1c34802a-66ed-439f-bc16-66ee74555b39",
   "metadata": {},
   "outputs": [
    {
     "data": {
      "text/plain": [
       "['Switzerland',\n",
       " 'Argentina',\n",
       " 'Ireland',\n",
       " 'Latvia',\n",
       " 'Taiwan',\n",
       " 'Belgium',\n",
       " 'Spain',\n",
       " 'Israel',\n",
       " 'Portugal',\n",
       " 'New Zealand',\n",
       " 'United States',\n",
       " 'United Arab Emirates',\n",
       " 'Norway',\n",
       " 'Sweden',\n",
       " 'Italy',\n",
       " 'Hong Kong',\n",
       " 'France',\n",
       " 'Singapore',\n",
       " 'Canada',\n",
       " 'Australia',\n",
       " 'Finland',\n",
       " 'Papua New Guinea',\n",
       " 'Malaysia',\n",
       " 'Grenada',\n",
       " 'Estonia',\n",
       " 'The',\n",
       " 'Denmark',\n",
       " 'Luxembourg',\n",
       " 'Austria',\n",
       " 'Hungary',\n",
       " 'Germany',\n",
       " 'Japan',\n",
       " 'United Kingdom',\n",
       " 'Montenegro',\n",
       " 'Poland',\n",
       " 'Iceland',\n",
       " 'Netherlands']"
      ]
     },
     "execution_count": 31,
     "metadata": {},
     "output_type": "execute_result"
    }
   ],
   "source": [
    "countries"
   ]
  },
  {
   "cell_type": "code",
   "execution_count": 50,
   "id": "e63ddca1-b014-40cb-8346-e5c0c11a5457",
   "metadata": {},
   "outputs": [],
   "source": [
    "yocket_currencies = {\n",
    "    \"United Kingdom\":\"GBP\",\n",
    "    \"United States\":\"USD\",\n",
    "    \"Australia\":\"AUD\",\n",
    "    \"Canada\":\"CAD\",\n",
    "    \"Netherlands\":\"EUR\",\n",
    "    \"Germany\":\"EUR\",\n",
    "    \"Singapore\":\"SGD\",\n",
    "    \"Switzerland\":\"CHF\",\n",
    "    \"Hong Kong\":\"USD\",\n",
    "    \"Sweden\":\"SEK\",\n",
    "    \"Denmark\":\"USD\",\n",
    "    \"France\":\"EUR\",\n",
    "    \"Japan\":\"JP\",\n",
    "    \"Italy\":\"EUR\",\n",
    "    \"Spain\":\"USD\",\n",
    "    \"New Zealand\":\"NZ\",\n",
    "    \"Austria\":\"USD\",\n",
    "    \"Norway\":\"USD\"\n",
    "}"
   ]
  },
  {
   "cell_type": "code",
   "execution_count": 51,
   "id": "48995e0c-51fa-48c0-a0fe-3c8418e28791",
   "metadata": {},
   "outputs": [],
   "source": [
    "# removing countries\n",
    "top = [\n",
    "    \"United Kingdom\",\n",
    "    \"United States\",\n",
    "    \"Australia\",\n",
    "    \"Canada\",\n",
    "    \"Netherlands\",\n",
    "    \"Germany\",\n",
    "    \"Singapore\",\n",
    "    \"Switzerland\",\n",
    "    \"Hong Kong\",\n",
    "    \"Sweden\",\n",
    "    \"Denmark\",\n",
    "    \"France\",\n",
    "    \"Japan\",\n",
    "    \"Italy\",\n",
    "    \"Spain\",\n",
    "    \"New Zealand\",\n",
    "    \"Austria\",\n",
    "    \"Norway\"\n",
    "]\n",
    "\n",
    "for i in csv_files:\n",
    "    df = pd.read_csv(i)\n",
    "    filtered_df = df[df['Country'].isin(top)]\n",
    "    filtered_df.to_csv(i, index=False)"
   ]
  },
  {
   "cell_type": "code",
   "execution_count": 52,
   "id": "a4144ded-76e2-4395-8673-46d314f85e8a",
   "metadata": {},
   "outputs": [],
   "source": [
    "# correcting the currency types\n",
    "for file in csv_files:\n",
    "    # Load the CSV file into a DataFrame\n",
    "    df = pd.read_csv(file)\n",
    "    \n",
    "    # Check if 'Currency' column exists, if not, create it\n",
    "    if 'Currency' not in df.columns:\n",
    "        df['Currency'] = None\n",
    "    \n",
    "    # Update 'Currency' column based on 'Country' column\n",
    "    df['Currency'] = df['Country'].map(yocket_currencies)\n",
    "    \n",
    "    # Save the updated DataFrame back to a CSV file\n",
    "    df.to_csv(file, index=False)\n"
   ]
  },
  {
   "cell_type": "code",
   "execution_count": null,
   "id": "62bc68ad-e2e2-4f7f-9356-8ffef7badcc8",
   "metadata": {},
   "outputs": [],
   "source": []
  },
  {
   "cell_type": "code",
   "execution_count": null,
   "id": "4e8c16c4-e3fa-4f32-905d-7778495c0168",
   "metadata": {},
   "outputs": [],
   "source": []
  },
  {
   "cell_type": "code",
   "execution_count": null,
   "id": "87863110-7758-4ddc-9896-848dde54b5be",
   "metadata": {},
   "outputs": [],
   "source": []
  }
 ],
 "metadata": {
  "kernelspec": {
   "display_name": "Python 3 (ipykernel)",
   "language": "python",
   "name": "python3"
  },
  "language_info": {
   "codemirror_mode": {
    "name": "ipython",
    "version": 3
   },
   "file_extension": ".py",
   "mimetype": "text/x-python",
   "name": "python",
   "nbconvert_exporter": "python",
   "pygments_lexer": "ipython3",
   "version": "3.8.0"
  }
 },
 "nbformat": 4,
 "nbformat_minor": 5
}
