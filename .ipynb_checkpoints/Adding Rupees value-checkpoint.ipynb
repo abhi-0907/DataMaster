{
 "cells": [
  {
   "cell_type": "code",
   "execution_count": 121,
   "id": "953f6711-c0ff-4c8b-8d5a-5c4896b36b39",
   "metadata": {},
   "outputs": [],
   "source": [
    "import pandas as pd\n",
    "import os"
   ]
  },
  {
   "cell_type": "code",
   "execution_count": 130,
   "id": "d1a41e75-01c1-4c27-857e-fa9fbff560ea",
   "metadata": {},
   "outputs": [],
   "source": [
    "currency_mappings = {'GBP':105.74, 'USD':83.56, 'AUD':55.73, 'CAD':61.00, 'EUR':89.35, 'SGD': 61.66, 'CHF':93.52, 'USD':83.56, 'SEK':7.95,'JP':0.52,'NZ':51.13}"
   ]
  },
  {
   "cell_type": "code",
   "execution_count": 123,
   "id": "8404cf00-c38b-40a5-b888-96d4be6ec957",
   "metadata": {},
   "outputs": [],
   "source": [
    "files_in_direc = os.listdir()\n",
    "csv_files = []\n",
    "csv_files = [file for file in files_in_direc if file.endswith('.csv')]\n"
   ]
  },
  {
   "cell_type": "code",
   "execution_count": 129,
   "id": "9be513a8-2df2-4e2b-96fb-bf075cf082f8",
   "metadata": {},
   "outputs": [
    {
     "data": {
      "text/plain": [
       "['MS_IN_AI.csv',\n",
       " 'MS_IN_Arch.csv',\n",
       " 'MS_IN_CIVIL.csv',\n",
       " 'MS_IN_CSE (2).csv',\n",
       " 'MS_IN_DS.csv',\n",
       " 'MS_IN_EEE.csv',\n",
       " 'MS_IN_ELEC_CS (1).csv',\n",
       " 'MS_IN_Env_Sci.csv',\n",
       " 'MS_IN_Fin_Acc.csv',\n",
       " 'MS_IN_Int_Rel.csv',\n",
       " 'MS_IN_MBA.csv',\n",
       " 'MS_IN_Pshy.csv',\n",
       " 'MS_IN_Pub_health.csv',\n",
       " 'MS_IN_SOFT_Eng.csv']"
      ]
     },
     "execution_count": 129,
     "metadata": {},
     "output_type": "execute_result"
    }
   ],
   "source": [
    "csv_files"
   ]
  },
  {
   "cell_type": "code",
   "execution_count": 125,
   "id": "13ef9a5f-cdca-44f0-8bb2-68edb31f1979",
   "metadata": {},
   "outputs": [],
   "source": [
    "courses = {\"Artificial Intelligence\":'MS_IN_AI.csv', \n",
    "           \"Architecture\":'MS_IN_Arch.csv', \n",
    "           \"Civil\":  'MS_IN_CIVIL.csv',\n",
    "           \"Computer Science and Engineering\": 'MS_IN_CSE (2).csv',\n",
    "           \"Data Science\":'MS_IN_DS.csv',\n",
    "           \"Electrical and Electronics\":'MS_IN_EEE.csv',\n",
    "           \"Electrical and Computers\":'MS_IN_ELEC_CS (1).csv',\n",
    "           \"Enviromental Science\":'MS_IN_Env_Sci.csv',\n",
    "           \"Finance and Accounts\": 'MS_IN_Fin_Acc.csv',\n",
    "           \"International Relations\": 'MS_IN_Int_Rel.csv',\n",
    "           \"MBA\":'MS_IN_MBA.csv',\n",
    "           \"Pschycology\":'MS_IN_Pshy.csv',\n",
    "           \"Public health\":'MS_IN_Pub_health.csv',\n",
    "           \"Software Engineering\":'MS_IN_SOFT_Eng.csv'\n",
    "          }"
   ]
  },
  {
   "cell_type": "code",
   "execution_count": 126,
   "id": "49ab9cb4-8ed2-4aa5-8bbb-97ccb67df70f",
   "metadata": {},
   "outputs": [
    {
     "name": "stdout",
     "output_type": "stream",
     "text": [
      "{'CHF', 'SEK', 'CAD', 'JP', 'AUD', 'SGD', 'NZ', 'EUR', 'USD', 'GBP'}\n"
     ]
    }
   ],
   "source": [
    "currencies = []\n",
    "for file in csv_files:\n",
    "    # Load the CSV file into a DataFrame\n",
    "    df = pd.read_csv(file)\n",
    "    x = df[\"Currency\"].unique().tolist()\n",
    "    currencies.extend(x)\n",
    "print(set(currencies))\n"
   ]
  },
  {
   "cell_type": "code",
   "execution_count": 132,
   "id": "9a22e99f-732f-4663-a450-fed73322695c",
   "metadata": {},
   "outputs": [],
   "source": [
    "for file in csv_files:\n",
    "    # Load the CSV file into a DataFrame\n",
    "    df = pd.read_csv(file)\n",
    "    \n",
    "    # Assuming 'Currency' column contains the currency type (e.g., 'USD', 'EUR')\n",
    "    # and 'Average Fees (Per Year)' column contains the fees amount\n",
    "    df['Average Fees in INR'] = df.apply(\n",
    "        lambda row: round(row[\"Average Fees (Per Year)\"] * currency_mappings.get(row['Currency']), 2), axis=1\n",
    "    )\n",
    "    \n",
    "    # Save the updated DataFrame back to a CSV file\n",
    "    df.to_csv(f\"data_inr_value/{file}\", index=False)"
   ]
  },
  {
   "cell_type": "code",
   "execution_count": null,
   "id": "627b79a3-f564-4f78-b380-4a050d339a5e",
   "metadata": {},
   "outputs": [],
   "source": []
  }
 ],
 "metadata": {
  "kernelspec": {
   "display_name": "Python 3 (ipykernel)",
   "language": "python",
   "name": "python3"
  },
  "language_info": {
   "codemirror_mode": {
    "name": "ipython",
    "version": 3
   },
   "file_extension": ".py",
   "mimetype": "text/x-python",
   "name": "python",
   "nbconvert_exporter": "python",
   "pygments_lexer": "ipython3",
   "version": "3.8.0"
  }
 },
 "nbformat": 4,
 "nbformat_minor": 5
}
